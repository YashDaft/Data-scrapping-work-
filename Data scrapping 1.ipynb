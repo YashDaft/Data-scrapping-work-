{
 "cells": [
  {
   "cell_type": "code",
   "execution_count": 12,
   "id": "0a118220-4b16-4d7b-b056-a5d3f88d160d",
   "metadata": {},
   "outputs": [],
   "source": [
    "import requests\n",
    "from bs4 import BeautifulSoup\n",
    "import pandas as pd\n",
    "import re  # To clean population data"
   ]
  },
  {
   "cell_type": "markdown",
   "id": "8e3514b9-4aa3-4bf1-a555-1d3b5d5f428d",
   "metadata": {},
   "source": [
    "Wikipedia url-"
   ]
  },
  {
   "cell_type": "code",
   "execution_count": 13,
   "id": "f48521c4-2610-4594-a11f-2490bc7188b7",
   "metadata": {},
   "outputs": [],
   "source": [
    "url = \"https://en.wikipedia.org/wiki/List_of_states_and_territories_of_the_United_States\""
   ]
  },
  {
   "cell_type": "markdown",
   "id": "e1a4038d-c3d4-48f7-b693-79d3723fa2ad",
   "metadata": {},
   "source": [
    "Send a GET request-"
   ]
  },
  {
   "cell_type": "code",
   "execution_count": 14,
   "id": "468ae519-4a9b-4138-82c7-88e4ae7b9e05",
   "metadata": {},
   "outputs": [],
   "source": [
    "headers = {\"User-Agent\": \"Mozilla/5.0\"}\n",
    "response = requests.get(url, headers=headers)\n",
    "soup = BeautifulSoup(response.text, \"html.parser\")"
   ]
  },
  {
   "cell_type": "markdown",
   "id": "387c585b-a198-477b-8326-bc2bf109a1b5",
   "metadata": {},
   "source": [
    "Locate the first table on the page (states and territories table)"
   ]
  },
  {
   "cell_type": "code",
   "execution_count": 15,
   "id": "4466de6e-d9be-4ddc-bf9d-99ea5bb63e56",
   "metadata": {},
   "outputs": [],
   "source": [
    "table = soup.find(\"table\", class_=\"wikitable\")"
   ]
  },
  {
   "cell_type": "markdown",
   "id": "fb0ed38e-b825-4aa7-8188-4a1c418f6bf0",
   "metadata": {},
   "source": [
    "Extract table rows-"
   ]
  },
  {
   "cell_type": "code",
   "execution_count": 16,
   "id": "b3f359d4-b492-408b-a62e-f387b8e408fe",
   "metadata": {},
   "outputs": [],
   "source": [
    "rows = table.find_all(\"tr\")"
   ]
  },
  {
   "cell_type": "markdown",
   "id": "122f5972-cba8-470f-b99f-b17da0148013",
   "metadata": {},
   "source": [
    "Extract state names and population-"
   ]
  },
  {
   "cell_type": "code",
   "execution_count": 17,
   "id": "2e623c39-eac3-4ee6-ba89-3b524bd79a58",
   "metadata": {},
   "outputs": [
    {
     "name": "stdout",
     "output_type": "stream",
     "text": [
      "Skipping invalid data for AL: Dec 14 1819\n",
      "Skipping invalid data for AK: Jan 3 1959\n",
      "Skipping invalid data for CA: Sep 9 1850\n",
      "Skipping invalid data for CT: Jan 9 1788\n",
      "Skipping invalid data for DE: Dec 7 1787\n",
      "Skipping invalid data for FL: Mar 3 1845\n",
      "Skipping invalid data for IL: Dec 3 1818\n",
      "Skipping invalid data for KS: Jan 29 1861\n",
      "Skipping invalid data for KY: Jun 1 1792\n",
      "Skipping invalid data for LA: Apr 30 1812\n",
      "Skipping invalid data for ME: Mar 15 1820\n",
      "Skipping invalid data for MD: Apr 28 1788\n",
      "Skipping invalid data for MI: Jan 26 1837\n",
      "Skipping invalid data for MN: May 11 1858\n",
      "Skipping invalid data for MO: Aug 10 1821\n",
      "Skipping invalid data for MT: Nov 8 1889\n",
      "Skipping invalid data for NE: Mar 1 1867\n",
      "Skipping invalid data for NV: Oct 31 1864\n",
      "Skipping invalid data for NH: Jun 21 1788\n",
      "Skipping invalid data for NJ: Dec 18 1787\n",
      "Skipping invalid data for NM: Jan 6 1912\n",
      "Skipping invalid data for NY: Jul 26 1788\n",
      "Skipping invalid data for NC: Nov 21 1789\n",
      "Skipping invalid data for ND: Nov 2 1889\n",
      "Skipping invalid data for OR: Feb 14 1859\n",
      "Skipping invalid data for PA: Dec 12 1787\n",
      "Skipping invalid data for SC: May 23 1788\n",
      "Skipping invalid data for SD: Nov 2 1889\n",
      "Skipping invalid data for TX: Dec 29 1845\n",
      "Skipping invalid data for VT: Mar 4 1791\n",
      "Skipping invalid data for VA: Jun 25 1788\n",
      "Skipping invalid data for WA: Nov 11 1889\n",
      "Skipping invalid data for WI: May 29 1848\n"
     ]
    }
   ],
   "source": [
    "data = []\n",
    "for row in rows[2:]:  # Skip the first two header rows\n",
    "    cells = row.find_all(\"td\")\n",
    "    if len(cells) > 4:  \n",
    "        state = cells[0].text.strip()\n",
    "\n",
    "        raw_population = cells[3].text.strip()  \n",
    "       \n",
    "        population = re.sub(r\"\\[.*?\\]\", \"\", raw_population).replace(\",\", \"\").strip()\n",
    "        \n",
    "        if population.isdigit():\n",
    "            data.append({\"State\": state, \"Population\": int(population)})\n",
    "        else:\n",
    "            print(f\"Skipping invalid data for {state}: {population}\")  # Debugging message"
   ]
  },
  {
   "cell_type": "code",
   "execution_count": 18,
   "id": "5d3cd734-7730-474d-a2f9-3db7d0e8eb40",
   "metadata": {},
   "outputs": [
    {
     "data": {
      "text/html": [
       "<div>\n",
       "<style scoped>\n",
       "    .dataframe tbody tr th:only-of-type {\n",
       "        vertical-align: middle;\n",
       "    }\n",
       "\n",
       "    .dataframe tbody tr th {\n",
       "        vertical-align: top;\n",
       "    }\n",
       "\n",
       "    .dataframe thead th {\n",
       "        text-align: right;\n",
       "    }\n",
       "</style>\n",
       "<table border=\"1\" class=\"dataframe\">\n",
       "  <thead>\n",
       "    <tr style=\"text-align: right;\">\n",
       "      <th></th>\n",
       "      <th>State</th>\n",
       "      <th>Population</th>\n",
       "    </tr>\n",
       "  </thead>\n",
       "  <tbody>\n",
       "    <tr>\n",
       "      <th>0</th>\n",
       "      <td>AZ</td>\n",
       "      <td>7151502</td>\n",
       "    </tr>\n",
       "    <tr>\n",
       "      <th>1</th>\n",
       "      <td>AR</td>\n",
       "      <td>3011524</td>\n",
       "    </tr>\n",
       "    <tr>\n",
       "      <th>2</th>\n",
       "      <td>CO</td>\n",
       "      <td>5773714</td>\n",
       "    </tr>\n",
       "    <tr>\n",
       "      <th>3</th>\n",
       "      <td>GA</td>\n",
       "      <td>10711908</td>\n",
       "    </tr>\n",
       "    <tr>\n",
       "      <th>4</th>\n",
       "      <td>HI</td>\n",
       "      <td>1455271</td>\n",
       "    </tr>\n",
       "    <tr>\n",
       "      <th>5</th>\n",
       "      <td>ID</td>\n",
       "      <td>1839106</td>\n",
       "    </tr>\n",
       "    <tr>\n",
       "      <th>6</th>\n",
       "      <td>IN</td>\n",
       "      <td>6785528</td>\n",
       "    </tr>\n",
       "    <tr>\n",
       "      <th>7</th>\n",
       "      <td>IA</td>\n",
       "      <td>3190369</td>\n",
       "    </tr>\n",
       "    <tr>\n",
       "      <th>8</th>\n",
       "      <td>MA</td>\n",
       "      <td>7029917</td>\n",
       "    </tr>\n",
       "    <tr>\n",
       "      <th>9</th>\n",
       "      <td>MS</td>\n",
       "      <td>2961279</td>\n",
       "    </tr>\n",
       "    <tr>\n",
       "      <th>10</th>\n",
       "      <td>OH</td>\n",
       "      <td>11799448</td>\n",
       "    </tr>\n",
       "    <tr>\n",
       "      <th>11</th>\n",
       "      <td>OK</td>\n",
       "      <td>3959353</td>\n",
       "    </tr>\n",
       "    <tr>\n",
       "      <th>12</th>\n",
       "      <td>RI</td>\n",
       "      <td>1097379</td>\n",
       "    </tr>\n",
       "    <tr>\n",
       "      <th>13</th>\n",
       "      <td>TN</td>\n",
       "      <td>6910840</td>\n",
       "    </tr>\n",
       "    <tr>\n",
       "      <th>14</th>\n",
       "      <td>UT</td>\n",
       "      <td>3271616</td>\n",
       "    </tr>\n",
       "    <tr>\n",
       "      <th>15</th>\n",
       "      <td>WV</td>\n",
       "      <td>1793716</td>\n",
       "    </tr>\n",
       "    <tr>\n",
       "      <th>16</th>\n",
       "      <td>WY</td>\n",
       "      <td>576851</td>\n",
       "    </tr>\n",
       "  </tbody>\n",
       "</table>\n",
       "</div>"
      ],
      "text/plain": [
       "   State  Population\n",
       "0     AZ     7151502\n",
       "1     AR     3011524\n",
       "2     CO     5773714\n",
       "3     GA    10711908\n",
       "4     HI     1455271\n",
       "5     ID     1839106\n",
       "6     IN     6785528\n",
       "7     IA     3190369\n",
       "8     MA     7029917\n",
       "9     MS     2961279\n",
       "10    OH    11799448\n",
       "11    OK     3959353\n",
       "12    RI     1097379\n",
       "13    TN     6910840\n",
       "14    UT     3271616\n",
       "15    WV     1793716\n",
       "16    WY      576851"
      ]
     },
     "execution_count": 18,
     "metadata": {},
     "output_type": "execute_result"
    }
   ],
   "source": [
    "df = pd.DataFrame(data)\n",
    "df"
   ]
  },
  {
   "cell_type": "markdown",
   "id": "9fddf96e-f4c8-4d78-a374-3ac8611783a4",
   "metadata": {},
   "source": [
    "Save to csv-"
   ]
  },
  {
   "cell_type": "code",
   "execution_count": 19,
   "id": "e1a1dd30-54b0-43bd-8db2-8569e1556159",
   "metadata": {},
   "outputs": [],
   "source": [
    "df.to_csv(\"us_states_population.csv\", index=False)"
   ]
  }
 ],
 "metadata": {
  "kernelspec": {
   "display_name": "Python 3 (ipykernel)",
   "language": "python",
   "name": "python3"
  },
  "language_info": {
   "codemirror_mode": {
    "name": "ipython",
    "version": 3
   },
   "file_extension": ".py",
   "mimetype": "text/x-python",
   "name": "python",
   "nbconvert_exporter": "python",
   "pygments_lexer": "ipython3",
   "version": "3.12.0"
  }
 },
 "nbformat": 4,
 "nbformat_minor": 5
}
