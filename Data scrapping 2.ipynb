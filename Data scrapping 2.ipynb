{
 "cells": [
  {
   "cell_type": "code",
   "execution_count": 5,
   "id": "821fa75b-6521-4937-813a-1d5b427198a9",
   "metadata": {},
   "outputs": [],
   "source": [
    "import requests\n",
    "from bs4 import BeautifulSoup\n",
    "import pandas as pd"
   ]
  },
  {
   "cell_type": "markdown",
   "id": "c4f879e1-7ab1-4da2-91f6-d1c4b095bc7c",
   "metadata": {},
   "source": [
    "Couldn't find the \"List of Movies and castings\" page so using \"Most popular movies\" Page instead"
   ]
  },
  {
   "cell_type": "code",
   "execution_count": 6,
   "id": "7c9cc732-54c6-4f3a-8cbc-367cd23edf94",
   "metadata": {},
   "outputs": [],
   "source": [
    "url = \"https://www.imdb.com/chart/moviemeter/?ref_=nv_mv_mpm\""
   ]
  },
  {
   "cell_type": "code",
   "execution_count": 7,
   "id": "b66336fa-666a-47c4-a418-f6faeafa5570",
   "metadata": {},
   "outputs": [],
   "source": [
    "# Send a GET request with headers to mimic a real browser\n",
    "headers = {\"User-Agent\": \"Mozilla/5.0\"}\n",
    "response = requests.get(url, headers=headers)\n",
    "soup = BeautifulSoup(response.text, \"html.parser\")"
   ]
  },
  {
   "cell_type": "code",
   "execution_count": 8,
   "id": "02e35eab-e452-4a4f-9150-f4b0b6eda02a",
   "metadata": {},
   "outputs": [],
   "source": [
    "# List to store movie data\n",
    "movies = []\n",
    "\n",
    "for item in soup.find_all(\"li\", class_=\"ipc-metadata-list-summary-item\"):\n",
    "    title_tag = item.find(\"h3\", class_=\"ipc-title__text\")  # Movie title\n",
    "    \n",
    "    metadata = item.find_all(\"span\", class_=\"cli-title-metadata-item\")\n",
    "    \n",
    "    if title_tag:\n",
    "        title = title_tag.text.strip()\n",
    "        year = metadata[0].text.strip() if metadata else \"N/A\"  # Extract year safely\n",
    "        movies.append({\"Movie Title\": title, \"Year\": year})\n"
   ]
  },
  {
   "cell_type": "code",
   "execution_count": 9,
   "id": "78f7568a-e275-427a-beba-a481a954ecd6",
   "metadata": {},
   "outputs": [
    {
     "name": "stdout",
     "output_type": "stream",
     "text": [
      "                         Movie Title  Year\n",
      "0                          The Gorge  2025\n",
      "1                      The Brutalist  2024\n",
      "2                         The Monkey  2025\n",
      "3   Captain America: New World Order  2025\n",
      "4                          Nosferatu  2024\n",
      "5                              Anora  2024\n",
      "6                          Companion  2025\n",
      "7                 A Complete Unknown  2024\n",
      "8                           Conclave  2024\n",
      "9                      The Substance  2024\n",
      "10  Bridget Jones: Mad About the Boy  2025\n",
      "11                          EuroTrip  2004\n",
      "12                    I'm Still Here  2024\n",
      "13                   My Fault London  2025\n",
      "14                         Mickey 17  2025\n",
      "15                           Shrek 5  2026\n",
      "16                       A Real Pain  2024\n",
      "17                          Presence  2024\n",
      "18                       Last Breath  2025\n",
      "19                              Flow  2024\n",
      "20                      Emilia Pérez  2024\n",
      "21             Venom: The Last Dance  2024\n",
      "22                            Wicked  2024\n",
      "23                         Elevation  2024\n",
      "24              Another Simple Favor  2025\n"
     ]
    }
   ],
   "source": [
    "# Convert to DataFrame\n",
    "df = pd.DataFrame(movies)\n",
    "print(df)"
   ]
  },
  {
   "cell_type": "code",
   "execution_count": 10,
   "id": "8a7fc31f-7757-4cfd-835a-78acb55db64d",
   "metadata": {},
   "outputs": [],
   "source": [
    "df.to_csv(\"imdb_most_popular_movies.csv\", index=False)"
   ]
  }
 ],
 "metadata": {
  "kernelspec": {
   "display_name": "Python 3 (ipykernel)",
   "language": "python",
   "name": "python3"
  },
  "language_info": {
   "codemirror_mode": {
    "name": "ipython",
    "version": 3
   },
   "file_extension": ".py",
   "mimetype": "text/x-python",
   "name": "python",
   "nbconvert_exporter": "python",
   "pygments_lexer": "ipython3",
   "version": "3.12.0"
  }
 },
 "nbformat": 4,
 "nbformat_minor": 5
}
